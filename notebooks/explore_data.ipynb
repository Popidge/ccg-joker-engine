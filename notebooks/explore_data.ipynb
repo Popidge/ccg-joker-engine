{
 "cells": [
  {
   "cell_type": "markdown",
   "metadata": {},
   "source": [
    "# Explore Triplecargo JSONL and Encodings\n",
    "\n",
    "This notebook loads a small JSONL fixture, shows one record, and runs the ccjoker encoders."
   ]
  },
  {
   "cell_type": "code",
   "execution_count": null,
   "metadata": {},
   "outputs": [],
   "source": [
    "import json, itertools, os, sys\n",
    "from pathlib import Path\n",
    "\n",
    "proj_root = Path.cwd().resolve().parent if Path.cwd().name == 'notebooks' else Path.cwd()\n",
    "sys.path.insert(0, str(proj_root / 'src'))\n",
    "\n",
    "from ccjoker.dataset import TriplecargoDataset\n",
    "from ccjoker import utils as U\n",
    "\n",
    "fixture = proj_root / 'tests' / 'fixtures' / 'sample.jsonl'\n",
    "print('Fixture exists:', fixture.exists(), fixture)\n",
    "\n",
    "with open(fixture, 'r', encoding='utf-8') as f:\n",
    "    lines = [json.loads(l) for l in f if l.strip()]\n",
    "print('Num records:', len(lines))\n",
    "lines[0]"
   ]
  },
  {
   "cell_type": "code",
   "execution_count": null,
   "metadata": {},
   "outputs": [],
   "source": [
    "ds = TriplecargoDataset(fixture)\n",
    "x, y_policy, y_value = ds[0]\n",
    "print('board_card_ids', x['board_card_ids'].shape, x['board_card_ids'])\n",
    "print('board_owner   ', x['board_owner'].shape)\n",
    "print('board_element ', x['board_element'].shape)\n",
    "print('hand_card_ids ', x['hand_card_ids'].shape, x['hand_card_ids'])\n",
    "print('hand_mask     ', x['hand_mask'].shape, x['hand_mask'])\n",
    "print('rules         ', x['rules'].shape, x['rules'])\n",
    "print('move_mask     ', x['move_mask'].shape)\n",
    "print('y_policy      ', y_policy.shape, y_policy.dtype, y_policy)\n",
    "print('y_value       ', y_value.shape, y_value.dtype, y_value)"
   ]
  }
 ],
 "metadata": {
  "kernelspec": {
   "display_name": "Python 3 (uv .venv)",
   "language": "python",
   "name": "python3"
  },
  "language_info": {
   "name": "python",
   "version": "3.12"
  }
 },
 "nbformat": 4,
 "nbformat_minor": 5
}